{
 "cells": [
  {
   "cell_type": "code",
   "execution_count": null,
   "metadata": {},
   "outputs": [],
   "source": [
    "python train.py --data colon --snapshot_path \"snapshot\" --data_prefix \"dataset/Task10_Colon\" "
   ]
  },
  {
   "cell_type": "code",
   "execution_count": 6,
   "metadata": {},
   "outputs": [
    {
     "name": "stdout",
     "output_type": "stream",
     "text": [
      "(512, 512, 60) (512, 512, 60)\n",
      "(0.779297, 0.779297, 7.5)\n"
     ]
    }
   ],
   "source": [
    "import cv2\n",
    "import numpy as np\n",
    "import nibabel as nib\n",
    "from scipy import ndimage\n",
    "\n",
    "# 讀取nii.gz檔案\n",
    "img = nib.load('3DSAM-adapter\\dataset\\Task10_Colon\\imagesTr\\colon_001.nii.gz')\n",
    "gt = nib.load('3DSAM-adapter\\dataset\\Task10_Colon\\labelsTr\\colon_001.nii.gz')\n",
    "\n",
    "# 獲取metadata的解析度\n",
    "zooms = img.header.get_zooms()\n",
    "\n",
    "# 內插3D影像回(1,1,1)的解析度\n",
    "print(img.get_fdata().shape, gt.get_fdata().shape)\n",
    "rescaled_img = ndimage.zoom(img.get_fdata(), zooms)\n",
    "rescaled_gt = ndimage.zoom(gt.get_fdata(), zooms)\n",
    "print(rescaled_img.shape, rescaled_gt.shape)\n",
    "\n",
    "# 根據每張圖像的最小值和最大值進行正規化\n",
    "min_val, max_val = np.min(rescaled_img), np.max(rescaled_img)\n",
    "rescaled_img = np.interp(rescaled_img, (min_val, max_val), (0, 255)).astype(np.uint8)\n",
    "\n",
    "# 將內插後的ground truth轉換成0或1的二元圖\n",
    "rescaled_gt = np.where(rescaled_gt > 0.5, 255, 0).astype(np.uint8)\n",
    "\n",
    "# 將內插完的圖像保存下來\n",
    "np.save('rescaled_img.npy', rescaled_img)\n",
    "np.save('rescaled_gt.npy', rescaled_gt)"
   ]
  },
  {
   "cell_type": "code",
   "execution_count": 7,
   "metadata": {},
   "outputs": [
    {
     "ename": "error",
     "evalue": "OpenCV(4.8.1) D:\\a\\opencv-python\\opencv-python\\opencv\\modules\\highgui\\src\\window_w32.cpp:2561: error: (-27:Null pointer) NULL window: 'CT and Ground Truth' in function 'cvGetTrackbarPos'\n",
     "output_type": "error",
     "traceback": [
      "\u001b[1;31m---------------------------------------------------------------------------\u001b[0m",
      "\u001b[1;31merror\u001b[0m                                     Traceback (most recent call last)",
      "\u001b[1;32mc:\\Users\\jacky\\OneDrive\\桌面\\3DSAM-adapter\\test.ipynb 儲存格 3\u001b[0m line \u001b[0;36m1\n\u001b[0;32m      <a href='vscode-notebook-cell:/c%3A/Users/jacky/OneDrive/%E6%A1%8C%E9%9D%A2/3DSAM-adapter/test.ipynb#X20sZmlsZQ%3D%3D?line=8'>9</a>\u001b[0m cv2\u001b[39m.\u001b[39mcreateTrackbar(bar_name, \u001b[39m'\u001b[39m\u001b[39mCT and Ground Truth\u001b[39m\u001b[39m'\u001b[39m, \u001b[39m0\u001b[39m, max_value, \u001b[39mlambda\u001b[39;00m x: \u001b[39mNone\u001b[39;00m)\n\u001b[0;32m     <a href='vscode-notebook-cell:/c%3A/Users/jacky/OneDrive/%E6%A1%8C%E9%9D%A2/3DSAM-adapter/test.ipynb#X20sZmlsZQ%3D%3D?line=10'>11</a>\u001b[0m \u001b[39mwhile\u001b[39;00m \u001b[39mTrue\u001b[39;00m:\n\u001b[0;32m     <a href='vscode-notebook-cell:/c%3A/Users/jacky/OneDrive/%E6%A1%8C%E9%9D%A2/3DSAM-adapter/test.ipynb#X20sZmlsZQ%3D%3D?line=11'>12</a>\u001b[0m     \u001b[39m# 獲取當前bar的值，並顯示對應的slice\u001b[39;00m\n\u001b[1;32m---> <a href='vscode-notebook-cell:/c%3A/Users/jacky/OneDrive/%E6%A1%8C%E9%9D%A2/3DSAM-adapter/test.ipynb#X20sZmlsZQ%3D%3D?line=12'>13</a>\u001b[0m     slice_num \u001b[39m=\u001b[39m cv2\u001b[39m.\u001b[39;49mgetTrackbarPos(bar_name, \u001b[39m'\u001b[39;49m\u001b[39mCT and Ground Truth\u001b[39;49m\u001b[39m'\u001b[39;49m)\n\u001b[0;32m     <a href='vscode-notebook-cell:/c%3A/Users/jacky/OneDrive/%E6%A1%8C%E9%9D%A2/3DSAM-adapter/test.ipynb#X20sZmlsZQ%3D%3D?line=13'>14</a>\u001b[0m     ct_slice \u001b[39m=\u001b[39m rescaled_img[:, :, slice_num]\n\u001b[0;32m     <a href='vscode-notebook-cell:/c%3A/Users/jacky/OneDrive/%E6%A1%8C%E9%9D%A2/3DSAM-adapter/test.ipynb#X20sZmlsZQ%3D%3D?line=14'>15</a>\u001b[0m     gt_slice \u001b[39m=\u001b[39m rescaled_gt[:, :, slice_num]\n",
      "\u001b[1;31merror\u001b[0m: OpenCV(4.8.1) D:\\a\\opencv-python\\opencv-python\\opencv\\modules\\highgui\\src\\window_w32.cpp:2561: error: (-27:Null pointer) NULL window: 'CT and Ground Truth' in function 'cvGetTrackbarPos'\n"
     ]
    }
   ],
   "source": [
    "# 載入保存的圖像\n",
    "rescaled_img = np.load('rescaled_img.npy')\n",
    "rescaled_gt = np.load('rescaled_gt.npy')\n",
    "\n",
    "# 創建一個bar來改變顯示的slice\n",
    "max_value = rescaled_img.shape[2] - 1  # 最大值為z軸的slice數量減一\n",
    "bar_name = 'Slice number'\n",
    "cv2.namedWindow('CT and Ground Truth', cv2.WINDOW_NORMAL)\n",
    "cv2.createTrackbar(bar_name, 'CT and Ground Truth', 0, max_value, lambda x: None)\n",
    "\n",
    "while True:\n",
    "    # 獲取當前bar的值，並顯示對應的slice\n",
    "    slice_num = cv2.getTrackbarPos(bar_name, 'CT and Ground Truth')\n",
    "    ct_slice = rescaled_img[:, :, slice_num]\n",
    "    gt_slice = rescaled_gt[:, :, slice_num]\n",
    "\n",
    "    # 將影像逆時針旋轉90度\n",
    "    ct_slice = np.rot90(ct_slice)\n",
    "    gt_slice = np.rot90(gt_slice)\n",
    "\n",
    "    # 將CT image和ground truth並排顯示\n",
    "    combined_img = np.hstack((ct_slice, gt_slice))\n",
    "\n",
    "    # 顯示圖片\n",
    "    cv2.imshow('CT and Ground Truth', combined_img)\n",
    "\n",
    "    # 按下'q'鍵退出迴圈\n",
    "    if cv2.waitKey(1) & 0xFF == ord('q'):\n",
    "        break\n",
    "\n",
    "cv2.destroyAllWindows()\n"
   ]
  },
  {
   "cell_type": "code",
   "execution_count": null,
   "metadata": {},
   "outputs": [],
   "source": [
    "import nibabel as nib\n",
    "import numpy as np\n",
    "import matplotlib.pyplot as plt\n",
    "from mpl_toolkits.mplot3d import Axes3D\n",
    "import os\n",
    "import fnmatch\n",
    "from typing import Union\n",
    "from scipy.ndimage import zoom\n",
    "import vtkplotter\n",
    "\n",
    "\n",
    "class DataViewer3D:\n",
    "    def __init__(self, idx=None, img_path=None, label_path=None) -> None:\n",
    "        assert img_path or label_path\n",
    "        self.img_path = img_path\n",
    "        self.label_path = label_path\n",
    "        self.idx = idx\n",
    "        self.imgs = self.load_data(self.get_filelist(self.img_path),self.idx)\n",
    "        self.labels = self.load_data(self.get_filelist(self.label_path),self.idx)\n",
    "\n",
    "    def get_filelist(self, dir) -> list[str]:\n",
    "        if dir==None:\n",
    "            return None\n",
    "        matches = list()\n",
    "        for root, dirnames, filenames in os.walk(dir):\n",
    "            for filename in fnmatch.filter(filenames, \"*.nii.gz\"):\n",
    "                matches.append(os.path.join(root, filename))\n",
    "        return matches\n",
    "    \n",
    "    def load_data(self, filelist, idx=None) -> Union[list[np.ndarray], np.ndarray]:\n",
    "        if idx is not None:\n",
    "            data_nii = nib.load(filelist[idx])\n",
    "            data_np = data_nii.get_fdata()\n",
    "            \n",
    "            volume = vtkplotter.load(filelist[idx]) #returns a vtkVolume object\n",
    "            vtkplotter.show(volume, bg='white')\n",
    "            return data_np\n",
    "        else:\n",
    "            datas = list()\n",
    "            for f_name in filelist:\n",
    "                data_nii = nib.load(f_name)\n",
    "                data_np = data_nii.get_fdata()\n",
    "                datas.append(data_np)\n",
    "            return datas\n",
    "        \n",
    "    \n",
    "    def plot_data(self):\n",
    "        assert len(self.imgs) == len(self.labels)\n",
    "        if self.idx is not None:\n",
    "            pass\n",
    "        else:\n",
    "            for idx in range(len(self.imgs)):\n",
    "                fig = plt.figure()\n",
    "\n",
    "                # 繪製醫學影像\n",
    "                ax1 = fig.add_subplot(121, projection='3d')\n",
    "                ax1.title.set_text('Medical Image')\n",
    "                ax1.voxels(self.imgs[idx])\n",
    "\n",
    "                # 繪製ground truth\n",
    "                ax2 = fig.add_subplot(122, projection='3d')\n",
    "                ax2.title.set_text('Ground Truth')\n",
    "                ax2.voxels(self.labels[idx])\n",
    "\n",
    "                plt.show()\n",
    "\n",
    "dv = DataViewer3D(idx = 0, img_path = \"3DSAM-adapter\\dataset\\Task10_Colon\\imagesTr\", label_path = \"3DSAM-adapter\\dataset\\Task10_Colon\\labelsTr\")\n",
    "dv.plot_data()"
   ]
  },
  {
   "cell_type": "code",
   "execution_count": 42,
   "metadata": {},
   "outputs": [
    {
     "name": "stdout",
     "output_type": "stream",
     "text": [
      "Task01_BrainTumour, 3類\n"
     ]
    },
    {
     "name": "stderr",
     "output_type": "stream",
     "text": [
      "100%|██████████| 484/484 [02:09<00:00,  3.73it/s]\n"
     ]
    },
    {
     "name": "stdout",
     "output_type": "stream",
     "text": [
      "寬度: (3, 484)\n",
      "高度: (3, 484)\n",
      "深度: (3, 484)\n",
      "Task02_Heart, 1類\n"
     ]
    },
    {
     "name": "stderr",
     "output_type": "stream",
     "text": [
      "100%|██████████| 20/20 [00:13<00:00,  1.48it/s]\n"
     ]
    },
    {
     "name": "stdout",
     "output_type": "stream",
     "text": [
      "寬度: (1, 20)\n",
      "高度: (1, 20)\n",
      "深度: (1, 20)\n",
      "Task03_Liver, 2類\n"
     ]
    },
    {
     "name": "stderr",
     "output_type": "stream",
     "text": [
      "100%|██████████| 131/131 [11:07<00:00,  5.09s/it]\n"
     ]
    },
    {
     "name": "stdout",
     "output_type": "stream",
     "text": [
      "寬度: (2, 131)\n",
      "高度: (2, 131)\n",
      "深度: (2, 131)\n",
      "Task04_Hippocampus, 2類\n"
     ]
    },
    {
     "name": "stderr",
     "output_type": "stream",
     "text": [
      "100%|██████████| 260/260 [00:01<00:00, 212.08it/s]\n"
     ]
    },
    {
     "name": "stdout",
     "output_type": "stream",
     "text": [
      "寬度: (2, 260)\n",
      "高度: (2, 260)\n",
      "深度: (2, 260)\n",
      "Task05_Prostate, 2類\n"
     ]
    },
    {
     "name": "stderr",
     "output_type": "stream",
     "text": [
      "100%|██████████| 32/32 [00:01<00:00, 16.05it/s]\n"
     ]
    },
    {
     "name": "stdout",
     "output_type": "stream",
     "text": [
      "寬度: (2, 32)\n",
      "高度: (2, 32)\n",
      "深度: (2, 32)\n",
      "Task06_Lung, 1類\n"
     ]
    },
    {
     "name": "stderr",
     "output_type": "stream",
     "text": [
      "100%|██████████| 63/63 [03:40<00:00,  3.50s/it]\n"
     ]
    },
    {
     "name": "stdout",
     "output_type": "stream",
     "text": [
      "寬度: (1, 63)\n",
      "高度: (1, 63)\n",
      "深度: (1, 63)\n",
      "Task07_Pancreas, 2類\n"
     ]
    },
    {
     "name": "stderr",
     "output_type": "stream",
     "text": [
      "100%|██████████| 281/281 [09:04<00:00,  1.94s/it]\n"
     ]
    },
    {
     "name": "stdout",
     "output_type": "stream",
     "text": [
      "寬度: (2, 281)\n",
      "高度: (2, 281)\n",
      "深度: (2, 281)\n",
      "Task08_HepaticVessel, 2類\n"
     ]
    },
    {
     "name": "stderr",
     "output_type": "stream",
     "text": [
      "100%|██████████| 303/303 [07:52<00:00,  1.56s/it]\n"
     ]
    },
    {
     "name": "stdout",
     "output_type": "stream",
     "text": [
      "寬度: (2, 303)\n",
      "高度: (2, 303)\n",
      "深度: (2, 303)\n",
      "Task09_Spleen, 1類\n"
     ]
    },
    {
     "name": "stderr",
     "output_type": "stream",
     "text": [
      "100%|██████████| 41/41 [01:37<00:00,  2.37s/it]\n"
     ]
    },
    {
     "name": "stdout",
     "output_type": "stream",
     "text": [
      "寬度: (1, 41)\n",
      "高度: (1, 41)\n",
      "深度: (1, 41)\n",
      "Task10_Colon, 1類\n"
     ]
    },
    {
     "name": "stderr",
     "output_type": "stream",
     "text": [
      "100%|██████████| 126/126 [06:19<00:00,  3.01s/it]"
     ]
    },
    {
     "name": "stdout",
     "output_type": "stream",
     "text": [
      "寬度: (1, 126)\n",
      "高度: (1, 126)\n",
      "深度: (1, 126)\n"
     ]
    },
    {
     "name": "stderr",
     "output_type": "stream",
     "text": [
      "\n"
     ]
    }
   ],
   "source": [
    "import os\n",
    "import numpy as np\n",
    "import nibabel as nib\n",
    "from scipy import ndimage\n",
    "from tqdm import tqdm\n",
    "\n",
    "def resample_label(image_path):\n",
    "    img = nib.load(image_path)\n",
    "    zooms = img.header.get_zooms()\n",
    "    rescaled_img = ndimage.zoom(img.get_fdata(), zooms, order=0) # 使用最近鄰插值（nearest-neighbor interpolation)\n",
    "\n",
    "    # 四捨五入label\n",
    "    rescaled_img = np.round(rescaled_img).astype(np.uint8)\n",
    "    return rescaled_img\n",
    "\n",
    "def seperate_label(data, num_class):\n",
    "    separated_arrays = []\n",
    "    for i in range(1, num_class + 1):\n",
    "        separated_array = np.where(data == i, i, 0)\n",
    "        separated_arrays.append(separated_array)\n",
    "    return separated_arrays\n",
    "\n",
    "def find_extreme_coords(data):\n",
    "    non_zero_indices = np.nonzero(data)\n",
    "\n",
    "    if non_zero_indices[0].size == 0: # 如果是全0矩陣\n",
    "        return np.array([0,0,0]), np.array([0,0,0])\n",
    "\n",
    "    min_coords = np.min(non_zero_indices, axis=1)\n",
    "    max_coords = np.max(non_zero_indices, axis=1)\n",
    "    return min_coords, max_coords\n",
    "\n",
    "\n",
    "def get_sizes_of_labels(label_folder, num_class, txt_file):\n",
    "    x = [[] for _ in range(num_class)]\n",
    "    y = [[] for _ in range(num_class)]\n",
    "    z = [[] for _ in range(num_class)]\n",
    "    for label_file in tqdm(os.listdir(label_folder)):\n",
    "        if label_file.endswith('.nii.gz'):\n",
    "            # load and interpolate label\n",
    "            data = resample_label(os.path.join(label_folder, label_file))\n",
    "\n",
    "            # separate multiple lables\n",
    "            array_list = seperate_label(data, num_class)\n",
    "\n",
    "            assert len(array_list) == num_class, f\"{label_file}: array_length{len(array_list)}, num_class{num_class}不一致\"\n",
    "\n",
    "            # get min and max coordinates\n",
    "            for i, array in enumerate(array_list):\n",
    "                min_coords, max_coords = find_extreme_coords(array)\n",
    "                length = max_coords - min_coords\n",
    "\n",
    "                x[i].append(length[0])\n",
    "                y[i].append(length[1])\n",
    "                z[i].append(length[2])\n",
    "                if length[0]==0 and length[1] == 0 and length[2] == 0:\n",
    "                    txt_file.write(f\"{label_file} {i}th label empty\\n\")\n",
    "    return np.array(x), np.array(y), np.array(z)\n",
    "\n",
    "base_dir = \"D:\\SAM\"\n",
    "folder_names = [\"Task01_BrainTumour\", \"Task02_Heart\", \"Task03_Liver\",\"Task04_Hippocampus\",\"Task05_Prostate\",\"Task06_Lung\",\"Task07_Pancreas\",\"Task08_HepaticVessel\",\"Task09_Spleen\",\"Task10_Colon\"]\n",
    "num_classes = [3,1,2,2,2,1,2,2,1,1]\n",
    "\n",
    "\n",
    "for task_num, f in enumerate(folder_names):\n",
    "    print(f\"{f}, {num_classes[task_num]}類\")\n",
    "    with open('data_empty.txt', 'a') as txt_file:\n",
    "        # x,y,z = get_sizes_of_labels(os.path.join(\"3DSAM-adapter\\dataset\\Task10_Colon\", \"labelsTr\"), num_classes[task_num])\n",
    "        x,y,z = get_sizes_of_labels(os.path.join(base_dir, f, f, \"labelsTr\"), num_classes[task_num], txt_file)\n",
    "        print(\"寬度:\", x.shape)\n",
    "        print(\"高度:\", y.shape)\n",
    "        print(\"深度:\", z.shape)\n",
    "    np.save(f+\"_x.npy\", x)\n",
    "    np.save(f+\"_y.npy\", y)\n",
    "    np.save(f+\"_z.npy\", z)"
   ]
  }
 ],
 "metadata": {
  "kernelspec": {
   "display_name": "med_sam",
   "language": "python",
   "name": "python3"
  },
  "language_info": {
   "codemirror_mode": {
    "name": "ipython",
    "version": 3
   },
   "file_extension": ".py",
   "mimetype": "text/x-python",
   "name": "python",
   "nbconvert_exporter": "python",
   "pygments_lexer": "ipython3",
   "version": "3.9.16"
  },
  "orig_nbformat": 4
 },
 "nbformat": 4,
 "nbformat_minor": 2
}
