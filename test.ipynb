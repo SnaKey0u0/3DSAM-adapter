{
 "cells": [
  {
   "cell_type": "code",
   "execution_count": 11,
   "metadata": {},
   "outputs": [
    {
     "name": "stdout",
     "output_type": "stream",
     "text": [
      "torch.Size([30, 2, 768])\n",
      "torch.Size([30, 2, 384])\n",
      "torch.Size([30, 768])\n"
     ]
    }
   ],
   "source": [
    "import numpy as np\n",
    "import torch\n",
    "import torch.nn as nn\n",
    "\n",
    "\n",
    "class LearnableFourierPositionalEncoding(nn.Module):\n",
    "    def __init__(self, G: int, M: int, F_dim: int, H_dim: int, D: int, gamma: float):\n",
    "        \"\"\"\n",
    "        Learnable Fourier Features from https://arxiv.org/pdf/2106.02795.pdf (Algorithm 1)\n",
    "        Implementation of Algorithm 1: Compute the Fourier feature positional encoding of a multi-dimensional position\n",
    "        Computes the positional encoding of a tensor of shape [N, G, M]\n",
    "        :param G: positional groups (positions in different groups are independent)\n",
    "        :param M: each point has a M-dimensional positional values\n",
    "        :param F_dim: depth of the Fourier feature dimension\n",
    "        :param H_dim: hidden layer dimension\n",
    "        :param D: positional encoding dimension\n",
    "        :param gamma: parameter to initialize Wr\n",
    "        \"\"\"\n",
    "        super().__init__()\n",
    "        self.G = G # 3\n",
    "        self.M = M # 17\n",
    "        self.F_dim = F_dim # 768\n",
    "        self.H_dim = H_dim # 32\n",
    "        self.D = D # 768\n",
    "        self.gamma = gamma # 10\n",
    "\n",
    "        # Projection matrix on learned lines (used in eq. 2)\n",
    "        self.Wr = nn.Linear(self.M, self.F_dim // 2, bias=False)\n",
    "        # MLP (GeLU(F @ W1 + B1) @ W2 + B2 (eq. 6)\n",
    "        self.mlp = nn.Sequential(\n",
    "            nn.Linear(self.F_dim, self.H_dim, bias=True),\n",
    "            nn.GELU(),\n",
    "            nn.Linear(self.H_dim, self.D // self.G)\n",
    "        )\n",
    "\n",
    "        self.init_weights()\n",
    "\n",
    "    def init_weights(self):\n",
    "        nn.init.normal_(self.Wr.weight.data, mean=0, std=self.gamma ** -2)\n",
    "\n",
    "    def forward(self, x):\n",
    "        \"\"\"\n",
    "        Produce positional encodings from x\n",
    "        :param x: tensor of shape [N, G, M] that represents N positions where each position is in the shape of [G, M],\n",
    "                  where G is the positional group and each group has M-dimensional positional values.\n",
    "                  Positions in different positional groups are independent\n",
    "        :return: positional encoding for X\n",
    "        \"\"\"\n",
    "        N, G, M = x.shape\n",
    "        # Step 1. Compute Fourier features (eq. 2)\n",
    "        projected = self.Wr(x)\n",
    "        cosines = torch.cos(projected)\n",
    "        sines = torch.sin(projected)\n",
    "        F = 1 / np.sqrt(self.F_dim) * torch.cat([cosines, sines], dim=-1)\n",
    "        # Step 2. Compute projected Fourier features (eq. 6)\n",
    "        print(F.size())\n",
    "        Y = self.mlp(F)\n",
    "        print(Y.size())\n",
    "        # Step 3. Reshape to x's shape\n",
    "        PEx = Y.reshape((N, self.D))\n",
    "        return PEx\n",
    "\n",
    "\n",
    "if __name__ == '__main__':\n",
    "    G = 2\n",
    "    M = 2\n",
    "    x = torch.randn((30, G, M)) # 30個點，2組(正負樣本)，座標\n",
    "    enc = LearnableFourierPositionalEncoding(G, M, 768, 32, 768, 10)\n",
    "    pex = enc(x)\n",
    "    print(pex.shape)"
   ]
  },
  {
   "cell_type": "code",
   "execution_count": 1,
   "metadata": {},
   "outputs": [
    {
     "name": "stdout",
     "output_type": "stream",
     "text": [
      "2097152\n",
      "[ 940785 1887671  907095  510941 1211251 1157562 1431325 1086533  838822\n",
      "   24127]\n",
      "tensor([[ 53],\n",
      "        [ 27],\n",
      "        [ 46],\n",
      "        [ 23],\n",
      "        [118],\n",
      "        [ 83],\n",
      "        [ 46],\n",
      "        [ 40],\n",
      "        [ 25],\n",
      "        [ 60]])\n",
      "torch.Size([1, 30, 3])\n"
     ]
    },
    {
     "data": {
      "text/plain": [
       "torch.Size([1, 1, 1, 30, 3])"
      ]
     },
     "execution_count": 1,
     "metadata": {},
     "output_type": "execute_result"
    }
   ],
   "source": [
    "import numpy as np\n",
    "import torch\n",
    "seg = torch.ones(1,128,128,128)\n",
    "l = len(torch.where(seg == 1)[0])\n",
    "print(l)\n",
    "sample = np.random.choice(np.arange(l), 10, replace=True) # 從範圍為 [0, l) 的整數中隨機選取 10 個數字（可能有重複）\n",
    "print(sample)\n",
    "x = torch.where(seg == 1)[1][sample].unsqueeze(1)\n",
    "y = torch.where(seg == 1)[3][sample].unsqueeze(1)\n",
    "z = torch.where(seg == 1)[2][sample].unsqueeze(1)\n",
    "print(z)\n",
    "point_coord = torch.cat([x, y, z], dim=1).unsqueeze(1).float() \n",
    "\n",
    "foo = torch.randn(1,20,3)\n",
    "point_coord = point_coord.transpose(0,1)\n",
    "point_coord = torch.cat([point_coord,foo],dim=1)\n",
    "print(point_coord.size())\n",
    "\n",
    "point_coord.reshape(1,1,1,-1,3).size()"
   ]
  },
  {
   "cell_type": "code",
   "execution_count": 2,
   "metadata": {},
   "outputs": [
    {
     "name": "stdout",
     "output_type": "stream",
     "text": [
      "tensor([[ 0.0637, -0.6329],\n",
      "        [-0.6641, -1.6162],\n",
      "        [-1.0634,  1.4174]])\n"
     ]
    },
    {
     "data": {
      "text/plain": [
       "(tensor([0, 2]), tensor([0, 1]))"
      ]
     },
     "execution_count": 2,
     "metadata": {},
     "output_type": "execute_result"
    }
   ],
   "source": [
    "x = torch.randn(3, 2)\n",
    "print(x)\n",
    "torch.where(x > 0)"
   ]
  },
  {
   "cell_type": "code",
   "execution_count": 3,
   "metadata": {},
   "outputs": [
    {
     "name": "stdout",
     "output_type": "stream",
     "text": [
      "torch.Size([10, 1, 3])\n",
      "torch.Size([1, 10, 3])\n",
      "torch.Size([1, 10, 3])\n"
     ]
    },
    {
     "data": {
      "text/plain": [
       "torch.Size([1, 20, 3])"
      ]
     },
     "execution_count": 3,
     "metadata": {},
     "output_type": "execute_result"
    }
   ],
   "source": [
    "x = torch.randn(10,1)\n",
    "y = torch.randn(10,1)\n",
    "z = torch.randn(10,1)\n",
    "points = torch.cat([x, y, z], dim=1).unsqueeze(1).float()\n",
    "print(points.size())\n",
    "points= points.transpose(0,1)\n",
    "a = torch.randn(1,10,3)\n",
    "print(a.size())\n",
    "print(points.size())\n",
    "torch.cat([a,points],dim=1).size()"
   ]
  },
  {
   "cell_type": "code",
   "execution_count": 4,
   "metadata": {},
   "outputs": [
    {
     "data": {
      "text/plain": [
       "torch.Size([1, 3, 64, 64, 64])"
      ]
     },
     "execution_count": 4,
     "metadata": {},
     "output_type": "execute_result"
    }
   ],
   "source": [
    "import torch.nn.functional as F\n",
    "img = torch.randn(1,3, 128,128,128)\n",
    "# img[:, 0].size()\n",
    "F.interpolate(img,scale_factor=0.5,mode='trilinear').size()"
   ]
  }
 ],
 "metadata": {
  "kernelspec": {
   "display_name": "med_sam",
   "language": "python",
   "name": "python3"
  },
  "language_info": {
   "codemirror_mode": {
    "name": "ipython",
    "version": 3
   },
   "file_extension": ".py",
   "mimetype": "text/x-python",
   "name": "python",
   "nbconvert_exporter": "python",
   "pygments_lexer": "ipython3",
   "version": "3.9.16"
  },
  "orig_nbformat": 4
 },
 "nbformat": 4,
 "nbformat_minor": 2
}
