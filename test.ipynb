{
 "cells": [
  {
   "cell_type": "code",
   "execution_count": null,
   "metadata": {},
   "outputs": [],
   "source": [
    "python train.py --data colon --snapshot_path \"snapshot\" --data_prefix \"dataset/Task10_Colon\" "
   ]
  },
  {
   "cell_type": "code",
   "execution_count": 1,
   "metadata": {},
   "outputs": [
    {
     "name": "stdout",
     "output_type": "stream",
     "text": [
      "2097152\n",
      "[ 940785 1887671  907095  510941 1211251 1157562 1431325 1086533  838822\n",
      "   24127]\n",
      "tensor([[ 53],\n",
      "        [ 27],\n",
      "        [ 46],\n",
      "        [ 23],\n",
      "        [118],\n",
      "        [ 83],\n",
      "        [ 46],\n",
      "        [ 40],\n",
      "        [ 25],\n",
      "        [ 60]])\n",
      "torch.Size([1, 30, 3])\n"
     ]
    },
    {
     "data": {
      "text/plain": [
       "torch.Size([1, 1, 1, 30, 3])"
      ]
     },
     "execution_count": 1,
     "metadata": {},
     "output_type": "execute_result"
    }
   ],
   "source": [
    "import numpy as np\n",
    "import torch\n",
    "seg = torch.ones(1,128,128,128)\n",
    "l = len(torch.where(seg == 1)[0])\n",
    "print(l)\n",
    "sample = np.random.choice(np.arange(l), 10, replace=True) # 從範圍為 [0, l) 的整數中隨機選取 10 個數字（可能有重複）\n",
    "print(sample)\n",
    "x = torch.where(seg == 1)[1][sample].unsqueeze(1)\n",
    "y = torch.where(seg == 1)[3][sample].unsqueeze(1)\n",
    "z = torch.where(seg == 1)[2][sample].unsqueeze(1)\n",
    "print(z)\n",
    "point_coord = torch.cat([x, y, z], dim=1).unsqueeze(1).float() \n",
    "\n",
    "foo = torch.randn(1,20,3)\n",
    "point_coord = point_coord.transpose(0,1)\n",
    "point_coord = torch.cat([point_coord,foo],dim=1)\n",
    "print(point_coord.size())\n",
    "\n",
    "point_coord.reshape(1,1,1,-1,3).size()"
   ]
  },
  {
   "cell_type": "code",
   "execution_count": 2,
   "metadata": {},
   "outputs": [
    {
     "name": "stdout",
     "output_type": "stream",
     "text": [
      "tensor([[ 0.0637, -0.6329],\n",
      "        [-0.6641, -1.6162],\n",
      "        [-1.0634,  1.4174]])\n"
     ]
    },
    {
     "data": {
      "text/plain": [
       "(tensor([0, 2]), tensor([0, 1]))"
      ]
     },
     "execution_count": 2,
     "metadata": {},
     "output_type": "execute_result"
    }
   ],
   "source": [
    "x = torch.randn(3, 2)\n",
    "print(x)\n",
    "torch.where(x > 0)"
   ]
  },
  {
   "cell_type": "code",
   "execution_count": 3,
   "metadata": {},
   "outputs": [
    {
     "name": "stdout",
     "output_type": "stream",
     "text": [
      "torch.Size([10, 1, 3])\n",
      "torch.Size([1, 10, 3])\n",
      "torch.Size([1, 10, 3])\n"
     ]
    },
    {
     "data": {
      "text/plain": [
       "torch.Size([1, 20, 3])"
      ]
     },
     "execution_count": 3,
     "metadata": {},
     "output_type": "execute_result"
    }
   ],
   "source": [
    "x = torch.randn(10,1)\n",
    "y = torch.randn(10,1)\n",
    "z = torch.randn(10,1)\n",
    "points = torch.cat([x, y, z], dim=1).unsqueeze(1).float()\n",
    "print(points.size())\n",
    "points= points.transpose(0,1)\n",
    "a = torch.randn(1,10,3)\n",
    "print(a.size())\n",
    "print(points.size())\n",
    "torch.cat([a,points],dim=1).size()"
   ]
  },
  {
   "cell_type": "code",
   "execution_count": 4,
   "metadata": {},
   "outputs": [
    {
     "data": {
      "text/plain": [
       "torch.Size([1, 3, 64, 64, 64])"
      ]
     },
     "execution_count": 4,
     "metadata": {},
     "output_type": "execute_result"
    }
   ],
   "source": [
    "import torch.nn.functional as F\n",
    "img = torch.randn(1,3, 128,128,128)\n",
    "# img[:, 0].size()\n",
    "F.interpolate(img,scale_factor=0.5,mode='trilinear').size()"
   ]
  }
 ],
 "metadata": {
  "kernelspec": {
   "display_name": "med_sam",
   "language": "python",
   "name": "python3"
  },
  "language_info": {
   "codemirror_mode": {
    "name": "ipython",
    "version": 3
   },
   "file_extension": ".py",
   "mimetype": "text/x-python",
   "name": "python",
   "nbconvert_exporter": "python",
   "pygments_lexer": "ipython3",
   "version": "3.9.16"
  },
  "orig_nbformat": 4
 },
 "nbformat": 4,
 "nbformat_minor": 2
}
